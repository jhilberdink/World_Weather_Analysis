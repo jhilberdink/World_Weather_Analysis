{
 "cells": [
  {
   "cell_type": "code",
   "execution_count": 1,
   "metadata": {},
   "outputs": [],
   "source": [
    "# Import the dependencies.\n",
    "import pandas as pd\n",
    "import requests\n",
    "# Import the API key.\n",
    "from config import g_key"
   ]
  },
  {
   "cell_type": "code",
   "execution_count": 2,
   "metadata": {},
   "outputs": [],
   "source": [
    "import gmaps"
   ]
  },
  {
   "cell_type": "code",
   "execution_count": 3,
   "metadata": {},
   "outputs": [
    {
     "data": {
      "text/html": [
       "<div>\n",
       "<style scoped>\n",
       "    .dataframe tbody tr th:only-of-type {\n",
       "        vertical-align: middle;\n",
       "    }\n",
       "\n",
       "    .dataframe tbody tr th {\n",
       "        vertical-align: top;\n",
       "    }\n",
       "\n",
       "    .dataframe thead th {\n",
       "        text-align: right;\n",
       "    }\n",
       "</style>\n",
       "<table border=\"1\" class=\"dataframe\">\n",
       "  <thead>\n",
       "    <tr style=\"text-align: right;\">\n",
       "      <th></th>\n",
       "      <th>City_ID</th>\n",
       "      <th>City</th>\n",
       "      <th>Country</th>\n",
       "      <th>Date</th>\n",
       "      <th>Lat</th>\n",
       "      <th>Lng</th>\n",
       "      <th>Max Temp</th>\n",
       "      <th>Humidity</th>\n",
       "      <th>Cloudiness</th>\n",
       "      <th>Wind Speed</th>\n",
       "    </tr>\n",
       "  </thead>\n",
       "  <tbody>\n",
       "    <tr>\n",
       "      <th>0</th>\n",
       "      <td>0</td>\n",
       "      <td>Acajutla</td>\n",
       "      <td>SV</td>\n",
       "      <td>2021-04-01 16:49:11</td>\n",
       "      <td>13.5928</td>\n",
       "      <td>-89.8275</td>\n",
       "      <td>86.00</td>\n",
       "      <td>42</td>\n",
       "      <td>20</td>\n",
       "      <td>6.91</td>\n",
       "    </tr>\n",
       "    <tr>\n",
       "      <th>1</th>\n",
       "      <td>1</td>\n",
       "      <td>Andros Town</td>\n",
       "      <td>BS</td>\n",
       "      <td>2021-04-01 16:52:54</td>\n",
       "      <td>24.7000</td>\n",
       "      <td>-77.7667</td>\n",
       "      <td>77.00</td>\n",
       "      <td>83</td>\n",
       "      <td>75</td>\n",
       "      <td>14.97</td>\n",
       "    </tr>\n",
       "    <tr>\n",
       "      <th>2</th>\n",
       "      <td>2</td>\n",
       "      <td>Kaohsiung</td>\n",
       "      <td>TW</td>\n",
       "      <td>2021-04-01 16:52:36</td>\n",
       "      <td>22.6163</td>\n",
       "      <td>120.3133</td>\n",
       "      <td>79.00</td>\n",
       "      <td>83</td>\n",
       "      <td>75</td>\n",
       "      <td>3.44</td>\n",
       "    </tr>\n",
       "    <tr>\n",
       "      <th>3</th>\n",
       "      <td>3</td>\n",
       "      <td>Suntar</td>\n",
       "      <td>RU</td>\n",
       "      <td>2021-04-01 16:52:55</td>\n",
       "      <td>62.1444</td>\n",
       "      <td>117.6319</td>\n",
       "      <td>-2.90</td>\n",
       "      <td>93</td>\n",
       "      <td>34</td>\n",
       "      <td>6.85</td>\n",
       "    </tr>\n",
       "    <tr>\n",
       "      <th>4</th>\n",
       "      <td>4</td>\n",
       "      <td>Barra Do Garcas</td>\n",
       "      <td>BR</td>\n",
       "      <td>2021-04-01 16:52:55</td>\n",
       "      <td>-15.8900</td>\n",
       "      <td>-52.2567</td>\n",
       "      <td>89.69</td>\n",
       "      <td>48</td>\n",
       "      <td>70</td>\n",
       "      <td>3.94</td>\n",
       "    </tr>\n",
       "  </tbody>\n",
       "</table>\n",
       "</div>"
      ],
      "text/plain": [
       "   City_ID             City Country                 Date      Lat       Lng  \\\n",
       "0        0         Acajutla      SV  2021-04-01 16:49:11  13.5928  -89.8275   \n",
       "1        1      Andros Town      BS  2021-04-01 16:52:54  24.7000  -77.7667   \n",
       "2        2        Kaohsiung      TW  2021-04-01 16:52:36  22.6163  120.3133   \n",
       "3        3           Suntar      RU  2021-04-01 16:52:55  62.1444  117.6319   \n",
       "4        4  Barra Do Garcas      BR  2021-04-01 16:52:55 -15.8900  -52.2567   \n",
       "\n",
       "   Max Temp  Humidity  Cloudiness  Wind Speed  \n",
       "0     86.00        42          20        6.91  \n",
       "1     77.00        83          75       14.97  \n",
       "2     79.00        83          75        3.44  \n",
       "3     -2.90        93          34        6.85  \n",
       "4     89.69        48          70        3.94  "
      ]
     },
     "execution_count": 3,
     "metadata": {},
     "output_type": "execute_result"
    }
   ],
   "source": [
    "# Store the CSV you saved created in part one into a DataFrame.\n",
    "city_data_df = pd.read_csv(\"weather_data/cities.csv\")\n",
    "city_data_df.head()"
   ]
  },
  {
   "cell_type": "code",
   "execution_count": 4,
   "metadata": {},
   "outputs": [],
   "source": [
    "# Configure gmaps to use your Google API key.\n",
    "gmaps.configure(api_key=g_key)"
   ]
  },
  {
   "cell_type": "code",
   "execution_count": 5,
   "metadata": {},
   "outputs": [],
   "source": [
    "# Get the maximum temperature.\n",
    "max_temp = city_data_df[\"Max Temp\"]\n",
    "temps = []\n",
    "for temp in max_temp:\n",
    "    temps.append(max(temp, 0))"
   ]
  },
  {
   "cell_type": "code",
   "execution_count": 6,
   "metadata": {
    "scrolled": true
   },
   "outputs": [
    {
     "data": {
      "application/vnd.jupyter.widget-view+json": {
       "model_id": "5716f8fe7f074d8091c0c25b5eb57f1e",
       "version_major": 2,
       "version_minor": 0
      },
      "text/plain": [
       "Figure(layout=FigureLayout(height='420px'))"
      ]
     },
     "metadata": {},
     "output_type": "display_data"
    }
   ],
   "source": [
    "# Heatmap of temperature\n",
    "# Get the latitude and longitude.\n",
    "locations = city_data_df[[\"Lat\", \"Lng\"]]\n",
    "# Get the maximum temperature.\n",
    "max_temp = city_data_df[\"Max Temp\"]\n",
    "# Assign the figure variable.\n",
    "fig = gmaps.figure()\n",
    "# Assign the heatmap variable.\n",
    "heat_layer = gmaps.heatmap_layer(locations, weights=temps, dissipating=False, max_intensity=300, point_radius=4)\n",
    "# Add the heatmap layer.\n",
    "fig.add_layer(heat_layer)\n",
    "# Call the figure to plot the data.\n",
    "fig"
   ]
  },
  {
   "cell_type": "code",
   "execution_count": 7,
   "metadata": {
    "scrolled": true
   },
   "outputs": [
    {
     "data": {
      "application/vnd.jupyter.widget-view+json": {
       "model_id": "d74e80fdab154d809b7205215be98cc1",
       "version_major": 2,
       "version_minor": 0
      },
      "text/plain": [
       "Figure(layout=FigureLayout(height='420px'))"
      ]
     },
     "metadata": {},
     "output_type": "display_data"
    }
   ],
   "source": [
    "# Heatmap of percent humidity\n",
    "locations = city_data_df[[\"Lat\", \"Lng\"]]\n",
    "humidity = city_data_df[\"Humidity\"]\n",
    "fig = gmaps.figure(center=(30.0, 31.0), zoom_level=1.5)\n",
    "heat_layer = gmaps.heatmap_layer(locations, weights=humidity, dissipating=False, max_intensity=300, point_radius=4)\n",
    "\n",
    "fig.add_layer(heat_layer)\n",
    "# Call the figure to plot the data\n",
    "fig"
   ]
  },
  {
   "cell_type": "code",
   "execution_count": 8,
   "metadata": {
    "scrolled": true
   },
   "outputs": [
    {
     "data": {
      "application/vnd.jupyter.widget-view+json": {
       "model_id": "d8c2fa1fea4b48b2a1dbf9199a94dbfb",
       "version_major": 2,
       "version_minor": 0
      },
      "text/plain": [
       "Figure(layout=FigureLayout(height='420px'))"
      ]
     },
     "metadata": {},
     "output_type": "display_data"
    }
   ],
   "source": [
    "# Heatmap of percent cloudiness\n",
    "locations = city_data_df[[\"Lat\", \"Lng\"]]\n",
    "clouds = city_data_df[\"Cloudiness\"]\n",
    "fig = gmaps.figure(center=(30.0, 31.0), zoom_level=1.5)\n",
    "heat_layer = gmaps.heatmap_layer(locations, weights=humidity, dissipating=False, max_intensity=300, point_radius=4)\n",
    "\n",
    "fig.add_layer(heat_layer)\n",
    "# Call the figure to plot the data\n",
    "fig"
   ]
  },
  {
   "cell_type": "code",
   "execution_count": 9,
   "metadata": {
    "scrolled": true
   },
   "outputs": [
    {
     "data": {
      "application/vnd.jupyter.widget-view+json": {
       "model_id": "c6fcee156d4f4d48beccd7411b7aaff3",
       "version_major": 2,
       "version_minor": 0
      },
      "text/plain": [
       "Figure(layout=FigureLayout(height='420px'))"
      ]
     },
     "metadata": {},
     "output_type": "display_data"
    }
   ],
   "source": [
    "# Heatmap of percent wind speed\n",
    "locations = city_data_df[[\"Lat\", \"Lng\"]]\n",
    "wind = city_data_df[\"Wind Speed\"]\n",
    "fig = gmaps.figure(center=(30.0, 31.0), zoom_level=1.5)\n",
    "heat_layer = gmaps.heatmap_layer(locations, weights=humidity, dissipating=False, max_intensity=300, point_radius=4)\n",
    "\n",
    "fig.add_layer(heat_layer)\n",
    "# Call the figure to plot the data\n",
    "fig"
   ]
  },
  {
   "cell_type": "code",
   "execution_count": 10,
   "metadata": {},
   "outputs": [
    {
     "name": "stdout",
     "output_type": "stream",
     "text": [
      "What is the minimum temperature you would like for your trip?70\n",
      "What is the maximum temperature you would like for your trip?90\n"
     ]
    }
   ],
   "source": [
    "# Ask the customer to add a minimum and maximum temperature value.\n",
    "min_temp = float(input(\"What is the minimum temperature you would like for your trip?\"))\n",
    "max_temp = float(input(\"What is the maximum temperature you would like for your trip?\"))\n"
   ]
  },
  {
   "cell_type": "code",
   "execution_count": 11,
   "metadata": {
    "scrolled": true
   },
   "outputs": [
    {
     "data": {
      "text/html": [
       "<div>\n",
       "<style scoped>\n",
       "    .dataframe tbody tr th:only-of-type {\n",
       "        vertical-align: middle;\n",
       "    }\n",
       "\n",
       "    .dataframe tbody tr th {\n",
       "        vertical-align: top;\n",
       "    }\n",
       "\n",
       "    .dataframe thead th {\n",
       "        text-align: right;\n",
       "    }\n",
       "</style>\n",
       "<table border=\"1\" class=\"dataframe\">\n",
       "  <thead>\n",
       "    <tr style=\"text-align: right;\">\n",
       "      <th></th>\n",
       "      <th>City_ID</th>\n",
       "      <th>City</th>\n",
       "      <th>Country</th>\n",
       "      <th>Date</th>\n",
       "      <th>Lat</th>\n",
       "      <th>Lng</th>\n",
       "      <th>Max Temp</th>\n",
       "      <th>Humidity</th>\n",
       "      <th>Cloudiness</th>\n",
       "      <th>Wind Speed</th>\n",
       "    </tr>\n",
       "  </thead>\n",
       "  <tbody>\n",
       "    <tr>\n",
       "      <th>0</th>\n",
       "      <td>0</td>\n",
       "      <td>Acajutla</td>\n",
       "      <td>SV</td>\n",
       "      <td>2021-04-01 16:49:11</td>\n",
       "      <td>13.5928</td>\n",
       "      <td>-89.8275</td>\n",
       "      <td>86.00</td>\n",
       "      <td>42</td>\n",
       "      <td>20</td>\n",
       "      <td>6.91</td>\n",
       "    </tr>\n",
       "    <tr>\n",
       "      <th>1</th>\n",
       "      <td>1</td>\n",
       "      <td>Andros Town</td>\n",
       "      <td>BS</td>\n",
       "      <td>2021-04-01 16:52:54</td>\n",
       "      <td>24.7000</td>\n",
       "      <td>-77.7667</td>\n",
       "      <td>77.00</td>\n",
       "      <td>83</td>\n",
       "      <td>75</td>\n",
       "      <td>14.97</td>\n",
       "    </tr>\n",
       "    <tr>\n",
       "      <th>2</th>\n",
       "      <td>2</td>\n",
       "      <td>Kaohsiung</td>\n",
       "      <td>TW</td>\n",
       "      <td>2021-04-01 16:52:36</td>\n",
       "      <td>22.6163</td>\n",
       "      <td>120.3133</td>\n",
       "      <td>79.00</td>\n",
       "      <td>83</td>\n",
       "      <td>75</td>\n",
       "      <td>3.44</td>\n",
       "    </tr>\n",
       "    <tr>\n",
       "      <th>4</th>\n",
       "      <td>4</td>\n",
       "      <td>Barra Do Garcas</td>\n",
       "      <td>BR</td>\n",
       "      <td>2021-04-01 16:52:55</td>\n",
       "      <td>-15.8900</td>\n",
       "      <td>-52.2567</td>\n",
       "      <td>89.69</td>\n",
       "      <td>48</td>\n",
       "      <td>70</td>\n",
       "      <td>3.94</td>\n",
       "    </tr>\n",
       "    <tr>\n",
       "      <th>6</th>\n",
       "      <td>6</td>\n",
       "      <td>Bengkulu</td>\n",
       "      <td>ID</td>\n",
       "      <td>2021-04-01 16:52:55</td>\n",
       "      <td>-3.8004</td>\n",
       "      <td>102.2655</td>\n",
       "      <td>76.50</td>\n",
       "      <td>88</td>\n",
       "      <td>100</td>\n",
       "      <td>10.96</td>\n",
       "    </tr>\n",
       "    <tr>\n",
       "      <th>...</th>\n",
       "      <td>...</td>\n",
       "      <td>...</td>\n",
       "      <td>...</td>\n",
       "      <td>...</td>\n",
       "      <td>...</td>\n",
       "      <td>...</td>\n",
       "      <td>...</td>\n",
       "      <td>...</td>\n",
       "      <td>...</td>\n",
       "      <td>...</td>\n",
       "    </tr>\n",
       "    <tr>\n",
       "      <th>549</th>\n",
       "      <td>549</td>\n",
       "      <td>Saint-Pierre</td>\n",
       "      <td>RE</td>\n",
       "      <td>2021-04-01 16:54:56</td>\n",
       "      <td>-21.3393</td>\n",
       "      <td>55.4781</td>\n",
       "      <td>80.60</td>\n",
       "      <td>65</td>\n",
       "      <td>40</td>\n",
       "      <td>17.27</td>\n",
       "    </tr>\n",
       "    <tr>\n",
       "      <th>552</th>\n",
       "      <td>552</td>\n",
       "      <td>Tucuman</td>\n",
       "      <td>AR</td>\n",
       "      <td>2021-04-01 16:50:05</td>\n",
       "      <td>-26.8241</td>\n",
       "      <td>-65.2226</td>\n",
       "      <td>71.60</td>\n",
       "      <td>78</td>\n",
       "      <td>75</td>\n",
       "      <td>6.91</td>\n",
       "    </tr>\n",
       "    <tr>\n",
       "      <th>554</th>\n",
       "      <td>554</td>\n",
       "      <td>Mimongo</td>\n",
       "      <td>GA</td>\n",
       "      <td>2021-04-01 16:54:57</td>\n",
       "      <td>-1.6195</td>\n",
       "      <td>11.6068</td>\n",
       "      <td>73.62</td>\n",
       "      <td>89</td>\n",
       "      <td>100</td>\n",
       "      <td>0.89</td>\n",
       "    </tr>\n",
       "    <tr>\n",
       "      <th>555</th>\n",
       "      <td>555</td>\n",
       "      <td>Zabid</td>\n",
       "      <td>YE</td>\n",
       "      <td>2021-04-01 16:54:57</td>\n",
       "      <td>14.1951</td>\n",
       "      <td>43.3152</td>\n",
       "      <td>84.69</td>\n",
       "      <td>47</td>\n",
       "      <td>48</td>\n",
       "      <td>5.32</td>\n",
       "    </tr>\n",
       "    <tr>\n",
       "      <th>556</th>\n",
       "      <td>556</td>\n",
       "      <td>Salinas</td>\n",
       "      <td>US</td>\n",
       "      <td>2021-04-01 16:53:19</td>\n",
       "      <td>36.6777</td>\n",
       "      <td>-121.6555</td>\n",
       "      <td>71.60</td>\n",
       "      <td>47</td>\n",
       "      <td>1</td>\n",
       "      <td>11.50</td>\n",
       "    </tr>\n",
       "  </tbody>\n",
       "</table>\n",
       "<p>213 rows × 10 columns</p>\n",
       "</div>"
      ],
      "text/plain": [
       "     City_ID             City Country                 Date      Lat       Lng  \\\n",
       "0          0         Acajutla      SV  2021-04-01 16:49:11  13.5928  -89.8275   \n",
       "1          1      Andros Town      BS  2021-04-01 16:52:54  24.7000  -77.7667   \n",
       "2          2        Kaohsiung      TW  2021-04-01 16:52:36  22.6163  120.3133   \n",
       "4          4  Barra Do Garcas      BR  2021-04-01 16:52:55 -15.8900  -52.2567   \n",
       "6          6         Bengkulu      ID  2021-04-01 16:52:55  -3.8004  102.2655   \n",
       "..       ...              ...     ...                  ...      ...       ...   \n",
       "549      549     Saint-Pierre      RE  2021-04-01 16:54:56 -21.3393   55.4781   \n",
       "552      552          Tucuman      AR  2021-04-01 16:50:05 -26.8241  -65.2226   \n",
       "554      554          Mimongo      GA  2021-04-01 16:54:57  -1.6195   11.6068   \n",
       "555      555            Zabid      YE  2021-04-01 16:54:57  14.1951   43.3152   \n",
       "556      556          Salinas      US  2021-04-01 16:53:19  36.6777 -121.6555   \n",
       "\n",
       "     Max Temp  Humidity  Cloudiness  Wind Speed  \n",
       "0       86.00        42          20        6.91  \n",
       "1       77.00        83          75       14.97  \n",
       "2       79.00        83          75        3.44  \n",
       "4       89.69        48          70        3.94  \n",
       "6       76.50        88         100       10.96  \n",
       "..        ...       ...         ...         ...  \n",
       "549     80.60        65          40       17.27  \n",
       "552     71.60        78          75        6.91  \n",
       "554     73.62        89         100        0.89  \n",
       "555     84.69        47          48        5.32  \n",
       "556     71.60        47           1       11.50  \n",
       "\n",
       "[213 rows x 10 columns]"
      ]
     },
     "execution_count": 11,
     "metadata": {},
     "output_type": "execute_result"
    }
   ],
   "source": [
    "# Filter the dataset to find the cities that fit the criteria.\n",
    "preferred_cities_df = city_data_df.loc[(city_data_df[\"Max Temp\"] <= max_temp) & \\\n",
    "                                      (city_data_df[\"Max Temp\"] >= min_temp)].dropna()\n",
    "preferred_cities_df"
   ]
  },
  {
   "cell_type": "code",
   "execution_count": 12,
   "metadata": {
    "scrolled": true
   },
   "outputs": [
    {
     "data": {
      "text/plain": [
       "City_ID       213\n",
       "City          213\n",
       "Country       213\n",
       "Date          213\n",
       "Lat           213\n",
       "Lng           213\n",
       "Max Temp      213\n",
       "Humidity      213\n",
       "Cloudiness    213\n",
       "Wind Speed    213\n",
       "dtype: int64"
      ]
     },
     "execution_count": 12,
     "metadata": {},
     "output_type": "execute_result"
    }
   ],
   "source": [
    "preferred_cities_df.count()"
   ]
  },
  {
   "cell_type": "code",
   "execution_count": 13,
   "metadata": {},
   "outputs": [
    {
     "data": {
      "text/html": [
       "<div>\n",
       "<style scoped>\n",
       "    .dataframe tbody tr th:only-of-type {\n",
       "        vertical-align: middle;\n",
       "    }\n",
       "\n",
       "    .dataframe tbody tr th {\n",
       "        vertical-align: top;\n",
       "    }\n",
       "\n",
       "    .dataframe thead th {\n",
       "        text-align: right;\n",
       "    }\n",
       "</style>\n",
       "<table border=\"1\" class=\"dataframe\">\n",
       "  <thead>\n",
       "    <tr style=\"text-align: right;\">\n",
       "      <th></th>\n",
       "      <th>City</th>\n",
       "      <th>Country</th>\n",
       "      <th>Max Temp</th>\n",
       "      <th>Lat</th>\n",
       "      <th>Lng</th>\n",
       "      <th>Hotel Name</th>\n",
       "    </tr>\n",
       "  </thead>\n",
       "  <tbody>\n",
       "    <tr>\n",
       "      <th>0</th>\n",
       "      <td>Acajutla</td>\n",
       "      <td>SV</td>\n",
       "      <td>86.00</td>\n",
       "      <td>13.5928</td>\n",
       "      <td>-89.8275</td>\n",
       "      <td></td>\n",
       "    </tr>\n",
       "    <tr>\n",
       "      <th>1</th>\n",
       "      <td>Andros Town</td>\n",
       "      <td>BS</td>\n",
       "      <td>77.00</td>\n",
       "      <td>24.7000</td>\n",
       "      <td>-77.7667</td>\n",
       "      <td></td>\n",
       "    </tr>\n",
       "    <tr>\n",
       "      <th>2</th>\n",
       "      <td>Kaohsiung</td>\n",
       "      <td>TW</td>\n",
       "      <td>79.00</td>\n",
       "      <td>22.6163</td>\n",
       "      <td>120.3133</td>\n",
       "      <td></td>\n",
       "    </tr>\n",
       "    <tr>\n",
       "      <th>4</th>\n",
       "      <td>Barra Do Garcas</td>\n",
       "      <td>BR</td>\n",
       "      <td>89.69</td>\n",
       "      <td>-15.8900</td>\n",
       "      <td>-52.2567</td>\n",
       "      <td></td>\n",
       "    </tr>\n",
       "    <tr>\n",
       "      <th>6</th>\n",
       "      <td>Bengkulu</td>\n",
       "      <td>ID</td>\n",
       "      <td>76.50</td>\n",
       "      <td>-3.8004</td>\n",
       "      <td>102.2655</td>\n",
       "      <td></td>\n",
       "    </tr>\n",
       "    <tr>\n",
       "      <th>7</th>\n",
       "      <td>Rikitea</td>\n",
       "      <td>PF</td>\n",
       "      <td>73.92</td>\n",
       "      <td>-23.1203</td>\n",
       "      <td>-134.9692</td>\n",
       "      <td></td>\n",
       "    </tr>\n",
       "    <tr>\n",
       "      <th>8</th>\n",
       "      <td>Atuona</td>\n",
       "      <td>PF</td>\n",
       "      <td>80.20</td>\n",
       "      <td>-9.8000</td>\n",
       "      <td>-139.0333</td>\n",
       "      <td></td>\n",
       "    </tr>\n",
       "    <tr>\n",
       "      <th>12</th>\n",
       "      <td>Castro</td>\n",
       "      <td>BR</td>\n",
       "      <td>71.76</td>\n",
       "      <td>-24.7911</td>\n",
       "      <td>-50.0119</td>\n",
       "      <td></td>\n",
       "    </tr>\n",
       "    <tr>\n",
       "      <th>15</th>\n",
       "      <td>Kapaa</td>\n",
       "      <td>US</td>\n",
       "      <td>73.40</td>\n",
       "      <td>22.0752</td>\n",
       "      <td>-159.3190</td>\n",
       "      <td></td>\n",
       "    </tr>\n",
       "    <tr>\n",
       "      <th>19</th>\n",
       "      <td>Butaritari</td>\n",
       "      <td>KI</td>\n",
       "      <td>82.18</td>\n",
       "      <td>3.0707</td>\n",
       "      <td>172.7902</td>\n",
       "      <td></td>\n",
       "    </tr>\n",
       "  </tbody>\n",
       "</table>\n",
       "</div>"
      ],
      "text/plain": [
       "               City Country  Max Temp      Lat       Lng Hotel Name\n",
       "0          Acajutla      SV     86.00  13.5928  -89.8275           \n",
       "1       Andros Town      BS     77.00  24.7000  -77.7667           \n",
       "2         Kaohsiung      TW     79.00  22.6163  120.3133           \n",
       "4   Barra Do Garcas      BR     89.69 -15.8900  -52.2567           \n",
       "6          Bengkulu      ID     76.50  -3.8004  102.2655           \n",
       "7           Rikitea      PF     73.92 -23.1203 -134.9692           \n",
       "8            Atuona      PF     80.20  -9.8000 -139.0333           \n",
       "12           Castro      BR     71.76 -24.7911  -50.0119           \n",
       "15            Kapaa      US     73.40  22.0752 -159.3190           \n",
       "19       Butaritari      KI     82.18   3.0707  172.7902           "
      ]
     },
     "execution_count": 13,
     "metadata": {},
     "output_type": "execute_result"
    }
   ],
   "source": [
    "hotel_df = preferred_cities_df[[\"City\", \"Country\", \"Max Temp\", \"Lat\", \"Lng\"]].copy()\n",
    "hotel_df[\"Hotel Name\"] = \"\"\n",
    "hotel_df.head(10)"
   ]
  },
  {
   "cell_type": "code",
   "execution_count": 14,
   "metadata": {},
   "outputs": [],
   "source": [
    "# Set the parameters to search for a hotel.\n",
    "params = {\n",
    "    \"radius\": 5000,\n",
    "    \"type\": \"lodgings\",\n",
    "    \"key\": g_key\n",
    "}"
   ]
  },
  {
   "cell_type": "code",
   "execution_count": 16,
   "metadata": {},
   "outputs": [
    {
     "name": "stdout",
     "output_type": "stream",
     "text": [
      "Hotel not found... skipping\n"
     ]
    }
   ],
   "source": [
    "# Iterate through the DataFrame.\n",
    "for index, row in hotel_df.iterrows():\n",
    "    # Get the lat and long\n",
    "    lat = row[\"Lat\"]\n",
    "    lng = row[\"Lng\"]\n",
    "    \n",
    "    # Add the latitude and longitude to location key for the params dictionary.\n",
    "    params[\"location\"] = f\"{lat},{lng}\"\n",
    "    \n",
    "    # Use the search term \"lodging\" and our lat and long.\n",
    "    base_url = \"https://maps.googleapis.com/maps/api/place/nearbysearch/json\"\n",
    "    # Make the request and get JSON data.\n",
    "    hotels = requests.get(base_url, params=params).json()\n",
    "    # Grab the first hotel from the results and store the name.\n",
    "    try:\n",
    "        hotel_df.loc[index, \"Hotel Name\"] = hotels[\"results\"][0][\"name\"]\n",
    "    except (IndexError):\n",
    "        print(\"Hotel not found... skipping\")"
   ]
  },
  {
   "cell_type": "code",
   "execution_count": 17,
   "metadata": {},
   "outputs": [
    {
     "data": {
      "text/html": [
       "<div>\n",
       "<style scoped>\n",
       "    .dataframe tbody tr th:only-of-type {\n",
       "        vertical-align: middle;\n",
       "    }\n",
       "\n",
       "    .dataframe tbody tr th {\n",
       "        vertical-align: top;\n",
       "    }\n",
       "\n",
       "    .dataframe thead th {\n",
       "        text-align: right;\n",
       "    }\n",
       "</style>\n",
       "<table border=\"1\" class=\"dataframe\">\n",
       "  <thead>\n",
       "    <tr style=\"text-align: right;\">\n",
       "      <th></th>\n",
       "      <th>City</th>\n",
       "      <th>Country</th>\n",
       "      <th>Max Temp</th>\n",
       "      <th>Lat</th>\n",
       "      <th>Lng</th>\n",
       "      <th>Hotel Name</th>\n",
       "    </tr>\n",
       "  </thead>\n",
       "  <tbody>\n",
       "    <tr>\n",
       "      <th>0</th>\n",
       "      <td>Acajutla</td>\n",
       "      <td>SV</td>\n",
       "      <td>86.00</td>\n",
       "      <td>13.5928</td>\n",
       "      <td>-89.8275</td>\n",
       "      <td>Acajutla</td>\n",
       "    </tr>\n",
       "    <tr>\n",
       "      <th>1</th>\n",
       "      <td>Andros Town</td>\n",
       "      <td>BS</td>\n",
       "      <td>77.00</td>\n",
       "      <td>24.7000</td>\n",
       "      <td>-77.7667</td>\n",
       "      <td>Andros Town</td>\n",
       "    </tr>\n",
       "    <tr>\n",
       "      <th>2</th>\n",
       "      <td>Kaohsiung</td>\n",
       "      <td>TW</td>\n",
       "      <td>79.00</td>\n",
       "      <td>22.6163</td>\n",
       "      <td>120.3133</td>\n",
       "      <td>Kaohsiung</td>\n",
       "    </tr>\n",
       "    <tr>\n",
       "      <th>4</th>\n",
       "      <td>Barra Do Garcas</td>\n",
       "      <td>BR</td>\n",
       "      <td>89.69</td>\n",
       "      <td>-15.8900</td>\n",
       "      <td>-52.2567</td>\n",
       "      <td>Barra do Garças</td>\n",
       "    </tr>\n",
       "    <tr>\n",
       "      <th>6</th>\n",
       "      <td>Bengkulu</td>\n",
       "      <td>ID</td>\n",
       "      <td>76.50</td>\n",
       "      <td>-3.8004</td>\n",
       "      <td>102.2655</td>\n",
       "      <td>Bengkulu</td>\n",
       "    </tr>\n",
       "  </tbody>\n",
       "</table>\n",
       "</div>"
      ],
      "text/plain": [
       "              City Country  Max Temp      Lat       Lng       Hotel Name\n",
       "0         Acajutla      SV     86.00  13.5928  -89.8275         Acajutla\n",
       "1      Andros Town      BS     77.00  24.7000  -77.7667      Andros Town\n",
       "2        Kaohsiung      TW     79.00  22.6163  120.3133        Kaohsiung\n",
       "4  Barra Do Garcas      BR     89.69 -15.8900  -52.2567  Barra do Garças\n",
       "6         Bengkulu      ID     76.50  -3.8004  102.2655         Bengkulu"
      ]
     },
     "execution_count": 17,
     "metadata": {},
     "output_type": "execute_result"
    }
   ],
   "source": [
    "hotel_df.head()"
   ]
  },
  {
   "cell_type": "code",
   "execution_count": 20,
   "metadata": {},
   "outputs": [],
   "source": [
    "info_box_template = \"\"\"\n",
    "<dl>\n",
    "<dt>Hotel Name</dt><dd>{Hotel Name}</dd>\n",
    "<dt>City</dt><dd>{City}</dd>\n",
    "<dt>Country</dt><dd>{Country}</dd>\n",
    "<dt>Max Temp</dt><dd>{Max Temp} °F</dd>\n",
    "</dl>\n",
    "\"\"\"\n",
    "# Store the DataFrame Row.\n",
    "hotel_info = [info_box_template.format(**row) for index, row in hotel_df.iterrows()]"
   ]
  },
  {
   "cell_type": "code",
   "execution_count": 21,
   "metadata": {
    "scrolled": true
   },
   "outputs": [
    {
     "data": {
      "application/vnd.jupyter.widget-view+json": {
       "model_id": "3ce7e9f51c354589a736a80d8368f2e9",
       "version_major": 2,
       "version_minor": 0
      },
      "text/plain": [
       "Figure(layout=FigureLayout(height='420px'))"
      ]
     },
     "metadata": {},
     "output_type": "display_data"
    }
   ],
   "source": [
    "# Add a heatmap of temperature for the vacation spots.\n",
    "locations = hotel_df[[\"Lat\", \"Lng\"]]\n",
    "max_temp = hotel_df[\"Max Temp\"]\n",
    "fig = gmaps.figure(center=(30.0, 31.0), zoom_level=1.5)\n",
    "heat_layer = gmaps.heatmap_layer(locations, weights=max_temp, dissipating=False,\n",
    "                                max_intensity=300, point_radius=4)\n",
    "marker_layer = gmaps.marker_layer(locations, info_box_content=hotel_info)\n",
    "fig.add_layer(heat_layer)\n",
    "fig.add_layer(marker_layer)\n",
    "# Call the figure to plot the data.\n",
    "fig"
   ]
  }
 ],
 "metadata": {
  "kernelspec": {
   "display_name": "PythonData",
   "language": "python",
   "name": "pythondata"
  },
  "language_info": {
   "codemirror_mode": {
    "name": "ipython",
    "version": 3
   },
   "file_extension": ".py",
   "mimetype": "text/x-python",
   "name": "python",
   "nbconvert_exporter": "python",
   "pygments_lexer": "ipython3",
   "version": "3.7.9"
  }
 },
 "nbformat": 4,
 "nbformat_minor": 4
}
